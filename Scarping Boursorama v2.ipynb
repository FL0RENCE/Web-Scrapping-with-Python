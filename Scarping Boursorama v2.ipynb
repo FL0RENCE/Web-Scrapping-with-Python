{
 "cells": [
  {
   "cell_type": "markdown",
   "metadata": {},
   "source": [
    "# Récupération des données de boursorama"
   ]
  },
  {
   "cell_type": "markdown",
   "metadata": {},
   "source": [
    "## Scraping de la bourse parisienne"
   ]
  },
  {
   "cell_type": "markdown",
   "metadata": {},
   "source": [
    "<strong> La variation du chiffre d affaires est récupérée sur 1 an, 3 ans et 5 ans <strong>\n",
    "Attention, le programme met 5 minutes à tourner"
   ]
  },
  {
   "cell_type": "markdown",
   "metadata": {},
   "source": [
    "On commence par importer les bibliothèques nécesaires:\n",
    "1. La biliothèque permettant de récupérer le contenu d'un site internet à partir d'un lien\n",
    "2. La bibliothèque permettant de trier et réciprérer facilement les données recherchées sur ce contenu\n",
    "3. La bibliothèque pour debuggage"
   ]
  },
  {
   "cell_type": "code",
   "execution_count": null,
   "metadata": {},
   "outputs": [],
   "source": [
    "import requests\n",
    "from bs4 import BeautifulSoup"
   ]
  },
  {
   "cell_type": "markdown",
   "metadata": {},
   "source": [
    "Les données sont enregistrées dans des listes:\n",
    "* libellé enregistre le nom des sociétés côtées à la bourse parisienne\n",
    "* var1an enregsitre le nom des sociétés dont on connait la variation de la capitalisation bpursière sur 1 an\n",
    "* var3an\n",
    "* var5an\n",
    "* volume\n",
    "* capB est la capitalisation boursière\n",
    "* secteur d'activité 1\n",
    "* secteur d'activité 2\n",
    "* secteur d'activité 3"
   ]
  },
  {
   "cell_type": "code",
   "execution_count": 10,
   "metadata": {},
   "outputs": [],
   "source": [
    "données=[[], [], [], [],[], [], [],[],[]]"
   ]
  },
  {
   "cell_type": "markdown",
   "metadata": {},
   "source": [
    "Les paramètres changent:\n",
    "* secteur d'activité, \n",
    "* période de varition 1an\n",
    "* nombre de pages\n",
    "* bourse (pour les étrangères)\n",
    "Dans la requête (lien http), seul leur numéro associé importe"
   ]
  },
  {
   "cell_type": "code",
   "execution_count": 11,
   "metadata": {},
   "outputs": [],
   "source": [
    "secteurs=[\"Pétrole et gaz\", \"Matériaux de base\", \"Industries\", \"Biens de consommation\", \"Santé\", \"Services aux consommateurs\", \"Télécommunication\", \"Services aux collectivités\", \"Sociétés financières\", \"Technologies\", \"Banques\", \"\"]\n",
    "secteursN=[\"0\",\"1\",\"2\",\"3\",\"4\",\"5\",\"6\",\"7\",\"8\",\"9\",\"835\", \"\"]\n",
    "périodes=[\"actuel\", \"variation sur 1 an\", \"variation sur 3 ans\", \"variation sur 5 ans\"]\n",
    "périodesN=[\"\", \"5\", \"11\", \"12\"]"
   ]
  },
  {
   "cell_type": "markdown",
   "metadata": {},
   "source": [
    "Pour Chaque secteur d'activité, on scrape toutes les cotations de la bourse parisienne. Ensuite on scrape la variation sur 1, 3 puis 5 ans."
   ]
  },
  {
   "cell_type": "code",
   "execution_count": 12,
   "metadata": {},
   "outputs": [
    {
     "name": "stdout",
     "output_type": "stream",
     "text": [
      "https://www.boursorama.com/bourse/actions/palmares/france/?france_filter%5Bmarket%5D=TOUS&france_filter%5Bsector%5D=1&france_filter%5Bvariation%5D=50004&france_filter%5Bperiod%5D=11&france_filter%5Bfilter%5D=\n",
      "https://www.boursorama.com/bourse/actions/palmares/france/?france_filter%5Bmarket%5D=TOUS&france_filter%5Bsector%5D=1&france_filter%5Bvariation%5D=50004&france_filter%5Bperiod%5D=12&france_filter%5Bfilter%5D=\n",
      "https://www.boursorama.com/bourse/actions/palmares/france/?france_filter%5Bmarket%5D=TOUS&france_filter%5Bsector%5D=2&france_filter%5Bvariation%5D=50004&france_filter%5Bperiod%5D=&france_filter%5Bfilter%5D=\n",
      "https://www.boursorama.com/bourse/actions/palmares/france/?france_filter%5Bmarket%5D=TOUS&france_filter%5Bsector%5D=2&france_filter%5Bvariation%5D=50004&france_filter%5Bperiod%5D=5&france_filter%5Bfilter%5D=\n",
      "https://www.boursorama.com/bourse/actions/palmares/france/?france_filter%5Bmarket%5D=TOUS&france_filter%5Bsector%5D=2&france_filter%5Bvariation%5D=50004&france_filter%5Bperiod%5D=11&france_filter%5Bfilter%5D=\n",
      "https://www.boursorama.com/bourse/actions/palmares/france/?france_filter%5Bmarket%5D=TOUS&france_filter%5Bsector%5D=2&france_filter%5Bvariation%5D=50004&france_filter%5Bperiod%5D=12&france_filter%5Bfilter%5D=\n",
      "https://www.boursorama.com/bourse/actions/palmares/france/?france_filter%5Bmarket%5D=TOUS&france_filter%5Bsector%5D=3&france_filter%5Bvariation%5D=50004&france_filter%5Bperiod%5D=5&france_filter%5Bfilter%5D=\n",
      "https://www.boursorama.com/bourse/actions/palmares/france/?france_filter%5Bmarket%5D=TOUS&france_filter%5Bsector%5D=3&france_filter%5Bvariation%5D=50004&france_filter%5Bperiod%5D=11&france_filter%5Bfilter%5D=\n",
      "https://www.boursorama.com/bourse/actions/palmares/france/?france_filter%5Bmarket%5D=TOUS&france_filter%5Bsector%5D=3&france_filter%5Bvariation%5D=50004&france_filter%5Bperiod%5D=12&france_filter%5Bfilter%5D=\n",
      "https://www.boursorama.com/bourse/actions/palmares/france/?france_filter%5Bmarket%5D=TOUS&france_filter%5Bsector%5D=4&france_filter%5Bvariation%5D=50004&france_filter%5Bperiod%5D=&france_filter%5Bfilter%5D=\n",
      "https://www.boursorama.com/bourse/actions/palmares/france/?france_filter%5Bmarket%5D=TOUS&france_filter%5Bsector%5D=4&france_filter%5Bvariation%5D=50004&france_filter%5Bperiod%5D=5&france_filter%5Bfilter%5D=\n",
      "https://www.boursorama.com/bourse/actions/palmares/france/?france_filter%5Bmarket%5D=TOUS&france_filter%5Bsector%5D=4&france_filter%5Bvariation%5D=50004&france_filter%5Bperiod%5D=12&france_filter%5Bfilter%5D=\n",
      "https://www.boursorama.com/bourse/actions/palmares/france/?france_filter%5Bmarket%5D=TOUS&france_filter%5Bsector%5D=5&france_filter%5Bvariation%5D=50004&france_filter%5Bperiod%5D=5&france_filter%5Bfilter%5D=\n",
      "https://www.boursorama.com/bourse/actions/palmares/france/?france_filter%5Bmarket%5D=TOUS&france_filter%5Bsector%5D=5&france_filter%5Bvariation%5D=50004&france_filter%5Bperiod%5D=11&france_filter%5Bfilter%5D=\n",
      "https://www.boursorama.com/bourse/actions/palmares/france/?france_filter%5Bmarket%5D=TOUS&france_filter%5Bsector%5D=5&france_filter%5Bvariation%5D=50004&france_filter%5Bperiod%5D=12&france_filter%5Bfilter%5D=\n"
     ]
    },
    {
     "ename": "KeyboardInterrupt",
     "evalue": "",
     "output_type": "error",
     "traceback": [
      "\u001b[1;31m---------------------------------------------------------------------------\u001b[0m",
      "\u001b[1;31mKeyboardInterrupt\u001b[0m                         Traceback (most recent call last)",
      "\u001b[1;32m<ipython-input-12-565f7c30b7a8>\u001b[0m in \u001b[0;36m<module>\u001b[1;34m()\u001b[0m\n\u001b[0;32m      3\u001b[0m         \u001b[0murl\u001b[0m\u001b[1;33m=\u001b[0m\u001b[1;34m\"https://www.boursorama.com/bourse/actions/palmares/france/?france_filter%5Bmarket%5D=TOUS&france_filter%5Bsector%5D=\"\u001b[0m\u001b[1;33m+\u001b[0m\u001b[0msecteursN\u001b[0m\u001b[1;33m[\u001b[0m\u001b[0msect\u001b[0m\u001b[1;33m]\u001b[0m\u001b[1;33m+\u001b[0m\u001b[1;34m\"&france_filter%5Bvariation%5D=50004&france_filter%5Bperiod%5D=\"\u001b[0m\u001b[1;33m+\u001b[0m\u001b[0mpériodesN\u001b[0m\u001b[1;33m[\u001b[0m\u001b[0mipériode\u001b[0m\u001b[1;33m]\u001b[0m\u001b[1;33m+\u001b[0m\u001b[1;34m\"&france_filter%5Bfilter%5D=\"\u001b[0m\u001b[1;33m\u001b[0m\u001b[0m\n\u001b[0;32m      4\u001b[0m         \u001b[0mr\u001b[0m\u001b[1;33m=\u001b[0m\u001b[0mrequests\u001b[0m\u001b[1;33m.\u001b[0m\u001b[0mget\u001b[0m\u001b[1;33m(\u001b[0m\u001b[0murl\u001b[0m\u001b[1;33m)\u001b[0m\u001b[1;33m\u001b[0m\u001b[0m\n\u001b[1;32m----> 5\u001b[1;33m         \u001b[0msoup\u001b[0m\u001b[1;33m=\u001b[0m\u001b[0mBeautifulSoup\u001b[0m\u001b[1;33m(\u001b[0m\u001b[0mr\u001b[0m\u001b[1;33m.\u001b[0m\u001b[0mtext\u001b[0m\u001b[1;33m,\u001b[0m \u001b[1;34m\"html.parser\"\u001b[0m\u001b[1;33m)\u001b[0m\u001b[1;33m\u001b[0m\u001b[0m\n\u001b[0m\u001b[0;32m      6\u001b[0m         \u001b[0mresults\u001b[0m\u001b[1;33m=\u001b[0m\u001b[0msoup\u001b[0m\u001b[1;33m.\u001b[0m\u001b[0mfind_all\u001b[0m\u001b[1;33m(\u001b[0m\u001b[1;34m\"span\"\u001b[0m\u001b[1;33m,\u001b[0m \u001b[0mattrs\u001b[0m\u001b[1;33m=\u001b[0m\u001b[1;33m{\u001b[0m\u001b[1;34m\"class\"\u001b[0m\u001b[1;33m:\u001b[0m\u001b[1;34m\"c-pagination__content\"\u001b[0m\u001b[1;33m}\u001b[0m\u001b[1;33m)\u001b[0m\u001b[1;33m\u001b[0m\u001b[0m\n\u001b[0;32m      7\u001b[0m         \u001b[1;32mif\u001b[0m \u001b[0mlen\u001b[0m\u001b[1;33m(\u001b[0m\u001b[0mresults\u001b[0m\u001b[1;33m)\u001b[0m\u001b[1;33m==\u001b[0m\u001b[1;36m0\u001b[0m\u001b[1;33m:\u001b[0m\u001b[1;33m\u001b[0m\u001b[0m\n",
      "\u001b[1;32m~\\AppData\\Local\\Continuum\\anaconda3\\lib\\site-packages\\bs4\\__init__.py\u001b[0m in \u001b[0;36m__init__\u001b[1;34m(self, markup, features, builder, parse_only, from_encoding, exclude_encodings, **kwargs)\u001b[0m\n\u001b[0;32m    226\u001b[0m             \u001b[0mself\u001b[0m\u001b[1;33m.\u001b[0m\u001b[0mreset\u001b[0m\u001b[1;33m(\u001b[0m\u001b[1;33m)\u001b[0m\u001b[1;33m\u001b[0m\u001b[0m\n\u001b[0;32m    227\u001b[0m             \u001b[1;32mtry\u001b[0m\u001b[1;33m:\u001b[0m\u001b[1;33m\u001b[0m\u001b[0m\n\u001b[1;32m--> 228\u001b[1;33m                 \u001b[0mself\u001b[0m\u001b[1;33m.\u001b[0m\u001b[0m_feed\u001b[0m\u001b[1;33m(\u001b[0m\u001b[1;33m)\u001b[0m\u001b[1;33m\u001b[0m\u001b[0m\n\u001b[0m\u001b[0;32m    229\u001b[0m                 \u001b[1;32mbreak\u001b[0m\u001b[1;33m\u001b[0m\u001b[0m\n\u001b[0;32m    230\u001b[0m             \u001b[1;32mexcept\u001b[0m \u001b[0mParserRejectedMarkup\u001b[0m\u001b[1;33m:\u001b[0m\u001b[1;33m\u001b[0m\u001b[0m\n",
      "\u001b[1;32m~\\AppData\\Local\\Continuum\\anaconda3\\lib\\site-packages\\bs4\\__init__.py\u001b[0m in \u001b[0;36m_feed\u001b[1;34m(self)\u001b[0m\n\u001b[0;32m    287\u001b[0m         \u001b[0mself\u001b[0m\u001b[1;33m.\u001b[0m\u001b[0mbuilder\u001b[0m\u001b[1;33m.\u001b[0m\u001b[0mreset\u001b[0m\u001b[1;33m(\u001b[0m\u001b[1;33m)\u001b[0m\u001b[1;33m\u001b[0m\u001b[0m\n\u001b[0;32m    288\u001b[0m \u001b[1;33m\u001b[0m\u001b[0m\n\u001b[1;32m--> 289\u001b[1;33m         \u001b[0mself\u001b[0m\u001b[1;33m.\u001b[0m\u001b[0mbuilder\u001b[0m\u001b[1;33m.\u001b[0m\u001b[0mfeed\u001b[0m\u001b[1;33m(\u001b[0m\u001b[0mself\u001b[0m\u001b[1;33m.\u001b[0m\u001b[0mmarkup\u001b[0m\u001b[1;33m)\u001b[0m\u001b[1;33m\u001b[0m\u001b[0m\n\u001b[0m\u001b[0;32m    290\u001b[0m         \u001b[1;31m# Close out any unfinished strings and close all the open tags.\u001b[0m\u001b[1;33m\u001b[0m\u001b[1;33m\u001b[0m\u001b[0m\n\u001b[0;32m    291\u001b[0m         \u001b[0mself\u001b[0m\u001b[1;33m.\u001b[0m\u001b[0mendData\u001b[0m\u001b[1;33m(\u001b[0m\u001b[1;33m)\u001b[0m\u001b[1;33m\u001b[0m\u001b[0m\n",
      "\u001b[1;32m~\\AppData\\Local\\Continuum\\anaconda3\\lib\\site-packages\\bs4\\builder\\_htmlparser.py\u001b[0m in \u001b[0;36mfeed\u001b[1;34m(self, markup)\u001b[0m\n\u001b[0;32m    213\u001b[0m         \u001b[0mparser\u001b[0m\u001b[1;33m.\u001b[0m\u001b[0msoup\u001b[0m \u001b[1;33m=\u001b[0m \u001b[0mself\u001b[0m\u001b[1;33m.\u001b[0m\u001b[0msoup\u001b[0m\u001b[1;33m\u001b[0m\u001b[0m\n\u001b[0;32m    214\u001b[0m         \u001b[1;32mtry\u001b[0m\u001b[1;33m:\u001b[0m\u001b[1;33m\u001b[0m\u001b[0m\n\u001b[1;32m--> 215\u001b[1;33m             \u001b[0mparser\u001b[0m\u001b[1;33m.\u001b[0m\u001b[0mfeed\u001b[0m\u001b[1;33m(\u001b[0m\u001b[0mmarkup\u001b[0m\u001b[1;33m)\u001b[0m\u001b[1;33m\u001b[0m\u001b[0m\n\u001b[0m\u001b[0;32m    216\u001b[0m         \u001b[1;32mexcept\u001b[0m \u001b[0mHTMLParseError\u001b[0m \u001b[1;32mas\u001b[0m \u001b[0me\u001b[0m\u001b[1;33m:\u001b[0m\u001b[1;33m\u001b[0m\u001b[0m\n\u001b[0;32m    217\u001b[0m             warnings.warn(RuntimeWarning(\n",
      "\u001b[1;32m~\\AppData\\Local\\Continuum\\anaconda3\\lib\\html\\parser.py\u001b[0m in \u001b[0;36mfeed\u001b[1;34m(self, data)\u001b[0m\n\u001b[0;32m    109\u001b[0m         \"\"\"\n\u001b[0;32m    110\u001b[0m         \u001b[0mself\u001b[0m\u001b[1;33m.\u001b[0m\u001b[0mrawdata\u001b[0m \u001b[1;33m=\u001b[0m \u001b[0mself\u001b[0m\u001b[1;33m.\u001b[0m\u001b[0mrawdata\u001b[0m \u001b[1;33m+\u001b[0m \u001b[0mdata\u001b[0m\u001b[1;33m\u001b[0m\u001b[0m\n\u001b[1;32m--> 111\u001b[1;33m         \u001b[0mself\u001b[0m\u001b[1;33m.\u001b[0m\u001b[0mgoahead\u001b[0m\u001b[1;33m(\u001b[0m\u001b[1;36m0\u001b[0m\u001b[1;33m)\u001b[0m\u001b[1;33m\u001b[0m\u001b[0m\n\u001b[0m\u001b[0;32m    112\u001b[0m \u001b[1;33m\u001b[0m\u001b[0m\n\u001b[0;32m    113\u001b[0m     \u001b[1;32mdef\u001b[0m \u001b[0mclose\u001b[0m\u001b[1;33m(\u001b[0m\u001b[0mself\u001b[0m\u001b[1;33m)\u001b[0m\u001b[1;33m:\u001b[0m\u001b[1;33m\u001b[0m\u001b[0m\n",
      "\u001b[1;32m~\\AppData\\Local\\Continuum\\anaconda3\\lib\\html\\parser.py\u001b[0m in \u001b[0;36mgoahead\u001b[1;34m(self, end)\u001b[0m\n\u001b[0;32m    171\u001b[0m                     \u001b[0mk\u001b[0m \u001b[1;33m=\u001b[0m \u001b[0mself\u001b[0m\u001b[1;33m.\u001b[0m\u001b[0mparse_starttag\u001b[0m\u001b[1;33m(\u001b[0m\u001b[0mi\u001b[0m\u001b[1;33m)\u001b[0m\u001b[1;33m\u001b[0m\u001b[0m\n\u001b[0;32m    172\u001b[0m                 \u001b[1;32melif\u001b[0m \u001b[0mstartswith\u001b[0m\u001b[1;33m(\u001b[0m\u001b[1;34m\"</\"\u001b[0m\u001b[1;33m,\u001b[0m \u001b[0mi\u001b[0m\u001b[1;33m)\u001b[0m\u001b[1;33m:\u001b[0m\u001b[1;33m\u001b[0m\u001b[0m\n\u001b[1;32m--> 173\u001b[1;33m                     \u001b[0mk\u001b[0m \u001b[1;33m=\u001b[0m \u001b[0mself\u001b[0m\u001b[1;33m.\u001b[0m\u001b[0mparse_endtag\u001b[0m\u001b[1;33m(\u001b[0m\u001b[0mi\u001b[0m\u001b[1;33m)\u001b[0m\u001b[1;33m\u001b[0m\u001b[0m\n\u001b[0m\u001b[0;32m    174\u001b[0m                 \u001b[1;32melif\u001b[0m \u001b[0mstartswith\u001b[0m\u001b[1;33m(\u001b[0m\u001b[1;34m\"<!--\"\u001b[0m\u001b[1;33m,\u001b[0m \u001b[0mi\u001b[0m\u001b[1;33m)\u001b[0m\u001b[1;33m:\u001b[0m\u001b[1;33m\u001b[0m\u001b[0m\n\u001b[0;32m    175\u001b[0m                     \u001b[0mk\u001b[0m \u001b[1;33m=\u001b[0m \u001b[0mself\u001b[0m\u001b[1;33m.\u001b[0m\u001b[0mparse_comment\u001b[0m\u001b[1;33m(\u001b[0m\u001b[0mi\u001b[0m\u001b[1;33m)\u001b[0m\u001b[1;33m\u001b[0m\u001b[0m\n",
      "\u001b[1;32m~\\AppData\\Local\\Continuum\\anaconda3\\lib\\html\\parser.py\u001b[0m in \u001b[0;36mparse_endtag\u001b[1;34m(self, i)\u001b[0m\n\u001b[0;32m    419\u001b[0m                 \u001b[1;32mreturn\u001b[0m \u001b[0mgtpos\u001b[0m\u001b[1;33m\u001b[0m\u001b[0m\n\u001b[0;32m    420\u001b[0m \u001b[1;33m\u001b[0m\u001b[0m\n\u001b[1;32m--> 421\u001b[1;33m         \u001b[0mself\u001b[0m\u001b[1;33m.\u001b[0m\u001b[0mhandle_endtag\u001b[0m\u001b[1;33m(\u001b[0m\u001b[0melem\u001b[0m\u001b[1;33m.\u001b[0m\u001b[0mlower\u001b[0m\u001b[1;33m(\u001b[0m\u001b[1;33m)\u001b[0m\u001b[1;33m)\u001b[0m\u001b[1;33m\u001b[0m\u001b[0m\n\u001b[0m\u001b[0;32m    422\u001b[0m         \u001b[0mself\u001b[0m\u001b[1;33m.\u001b[0m\u001b[0mclear_cdata_mode\u001b[0m\u001b[1;33m(\u001b[0m\u001b[1;33m)\u001b[0m\u001b[1;33m\u001b[0m\u001b[0m\n\u001b[0;32m    423\u001b[0m         \u001b[1;32mreturn\u001b[0m \u001b[0mgtpos\u001b[0m\u001b[1;33m\u001b[0m\u001b[0m\n",
      "\u001b[1;32m~\\AppData\\Local\\Continuum\\anaconda3\\lib\\site-packages\\bs4\\builder\\_htmlparser.py\u001b[0m in \u001b[0;36mhandle_endtag\u001b[1;34m(self, name, check_already_closed)\u001b[0m\n\u001b[0;32m    114\u001b[0m             \u001b[0mself\u001b[0m\u001b[1;33m.\u001b[0m\u001b[0malready_closed_empty_element\u001b[0m\u001b[1;33m.\u001b[0m\u001b[0mremove\u001b[0m\u001b[1;33m(\u001b[0m\u001b[0mname\u001b[0m\u001b[1;33m)\u001b[0m\u001b[1;33m\u001b[0m\u001b[0m\n\u001b[0;32m    115\u001b[0m         \u001b[1;32melse\u001b[0m\u001b[1;33m:\u001b[0m\u001b[1;33m\u001b[0m\u001b[0m\n\u001b[1;32m--> 116\u001b[1;33m             \u001b[0mself\u001b[0m\u001b[1;33m.\u001b[0m\u001b[0msoup\u001b[0m\u001b[1;33m.\u001b[0m\u001b[0mhandle_endtag\u001b[0m\u001b[1;33m(\u001b[0m\u001b[0mname\u001b[0m\u001b[1;33m)\u001b[0m\u001b[1;33m\u001b[0m\u001b[0m\n\u001b[0m\u001b[0;32m    117\u001b[0m \u001b[1;33m\u001b[0m\u001b[0m\n\u001b[0;32m    118\u001b[0m     \u001b[1;32mdef\u001b[0m \u001b[0mhandle_data\u001b[0m\u001b[1;33m(\u001b[0m\u001b[0mself\u001b[0m\u001b[1;33m,\u001b[0m \u001b[0mdata\u001b[0m\u001b[1;33m)\u001b[0m\u001b[1;33m:\u001b[0m\u001b[1;33m\u001b[0m\u001b[0m\n",
      "\u001b[1;32m~\\AppData\\Local\\Continuum\\anaconda3\\lib\\site-packages\\bs4\\__init__.py\u001b[0m in \u001b[0;36mhandle_endtag\u001b[1;34m(self, name, nsprefix)\u001b[0m\n\u001b[0;32m    475\u001b[0m         \u001b[1;31m#print \"End tag: \" + name\u001b[0m\u001b[1;33m\u001b[0m\u001b[1;33m\u001b[0m\u001b[0m\n\u001b[0;32m    476\u001b[0m         \u001b[0mself\u001b[0m\u001b[1;33m.\u001b[0m\u001b[0mendData\u001b[0m\u001b[1;33m(\u001b[0m\u001b[1;33m)\u001b[0m\u001b[1;33m\u001b[0m\u001b[0m\n\u001b[1;32m--> 477\u001b[1;33m         \u001b[0mself\u001b[0m\u001b[1;33m.\u001b[0m\u001b[0m_popToTag\u001b[0m\u001b[1;33m(\u001b[0m\u001b[0mname\u001b[0m\u001b[1;33m,\u001b[0m \u001b[0mnsprefix\u001b[0m\u001b[1;33m)\u001b[0m\u001b[1;33m\u001b[0m\u001b[0m\n\u001b[0m\u001b[0;32m    478\u001b[0m \u001b[1;33m\u001b[0m\u001b[0m\n\u001b[0;32m    479\u001b[0m     \u001b[1;32mdef\u001b[0m \u001b[0mhandle_data\u001b[0m\u001b[1;33m(\u001b[0m\u001b[0mself\u001b[0m\u001b[1;33m,\u001b[0m \u001b[0mdata\u001b[0m\u001b[1;33m)\u001b[0m\u001b[1;33m:\u001b[0m\u001b[1;33m\u001b[0m\u001b[0m\n",
      "\u001b[1;32m~\\AppData\\Local\\Continuum\\anaconda3\\lib\\site-packages\\bs4\\__init__.py\u001b[0m in \u001b[0;36m_popToTag\u001b[1;34m(self, name, nsprefix, inclusivePop)\u001b[0m\n\u001b[0;32m    439\u001b[0m             \u001b[1;32mif\u001b[0m \u001b[1;33m(\u001b[0m\u001b[0mname\u001b[0m \u001b[1;33m==\u001b[0m \u001b[0mt\u001b[0m\u001b[1;33m.\u001b[0m\u001b[0mname\u001b[0m \u001b[1;32mand\u001b[0m \u001b[0mnsprefix\u001b[0m \u001b[1;33m==\u001b[0m \u001b[0mt\u001b[0m\u001b[1;33m.\u001b[0m\u001b[0mprefix\u001b[0m\u001b[1;33m)\u001b[0m\u001b[1;33m:\u001b[0m\u001b[1;33m\u001b[0m\u001b[0m\n\u001b[0;32m    440\u001b[0m                 \u001b[1;32mif\u001b[0m \u001b[0minclusivePop\u001b[0m\u001b[1;33m:\u001b[0m\u001b[1;33m\u001b[0m\u001b[0m\n\u001b[1;32m--> 441\u001b[1;33m                     \u001b[0mmost_recently_popped\u001b[0m \u001b[1;33m=\u001b[0m \u001b[0mself\u001b[0m\u001b[1;33m.\u001b[0m\u001b[0mpopTag\u001b[0m\u001b[1;33m(\u001b[0m\u001b[1;33m)\u001b[0m\u001b[1;33m\u001b[0m\u001b[0m\n\u001b[0m\u001b[0;32m    442\u001b[0m                 \u001b[1;32mbreak\u001b[0m\u001b[1;33m\u001b[0m\u001b[0m\n\u001b[0;32m    443\u001b[0m             \u001b[0mmost_recently_popped\u001b[0m \u001b[1;33m=\u001b[0m \u001b[0mself\u001b[0m\u001b[1;33m.\u001b[0m\u001b[0mpopTag\u001b[0m\u001b[1;33m(\u001b[0m\u001b[1;33m)\u001b[0m\u001b[1;33m\u001b[0m\u001b[0m\n",
      "\u001b[1;31mKeyboardInterrupt\u001b[0m: "
     ]
    }
   ],
   "source": [
    "for sect in range(len(secteursN)):\n",
    "    for ipériode in range(len(périodesN)):\n",
    "        url=\"https://www.boursorama.com/bourse/actions/palmares/france/?france_filter%5Bmarket%5D=TOUS&france_filter%5Bsector%5D=\"+secteursN[sect]+\"&france_filter%5Bvariation%5D=50004&france_filter%5Bperiod%5D=\"+périodesN[ipériode]+\"&france_filter%5Bfilter%5D=\"\n",
    "        r=requests.get(url)\n",
    "        soup=BeautifulSoup(r.text, \"html.parser\")\n",
    "        results=soup.find_all(\"span\", attrs={\"class\":\"c-pagination__content\"})\n",
    "        if len(results)==0:\n",
    "            NPages=2\n",
    "        else:\n",
    "            NPages=results[-1].text\n",
    "            print(url)\n",
    "        for page in range(1, int(NPages)+1):\n",
    "            url=\"https://www.boursorama.com/bourse/actions/palmares/france/page-\"+str(page)+\"?france_filter%5Bmarket%5D=TOUS&france_filter%5Bsector%5D=\"+secteursN[sect]+\"&france_filter%5Bvariation%5D=50004&france_filter%5Bperiod%5D=\"+périodesN[ipériode]+\"&france_filter%5Bfilter%5D=\"\n",
    "            r=requests.get(url)\n",
    "            soup=BeautifulSoup(r.text, \"html.parser\")\n",
    "            result1=soup.find(\"tbody\", attrs={'class':\"c-table__body\"})\n",
    "            results=result1.find_all(\"tr\", attrs={'class':\"c-table__row\"})\n",
    "            if len(results)>0:\n",
    "                for ligne in range(1, len(results)-1):\n",
    "                    libellé=results[ligne].find(\"a\").text\n",
    "                    variation=results[ligne].find(\"span\", attrs={ \"class\":\"c-instrument c-instrument--instant-variation\"}).text\n",
    "                    if not libellé in données[0]:\n",
    "                        données[0]=données[0]+[libellé]\n",
    "                        données[4]=données[4]+[results[ligne].find(\"span\", attrs={ \"class\":\"c-instrument c-instrument--totalvolume\"}).text]\n",
    "                        données[5]=données[5]+[(results[ligne].find_all(\"td\", attrs={ \"class\":\"c-table__cell c-table__cell--dotted \"})[-1].text).strip()]\n",
    "                        données[6]=données[6]+[secteurs[sect]]\n",
    "                        données[7]=données[7]+[\"\"]\n",
    "                        données[8]=données[8]+[\"\"]\n",
    "                        if ipériode==0:\n",
    "                            données[1]=données[1]+[\"\"]\n",
    "                            données[2]=données[2]+[\"\"]\n",
    "                            données[3]=données[3]+[\"\"]\n",
    "                        else:\n",
    "                            for i in range(1, len(périodesN)):\n",
    "                                if i==ipériode:\n",
    "                                    données[i]=données[i]+[variation]\n",
    "                                else:\n",
    "                                    données[i]=données[i]+[\"\"]\n",
    "                    else:\n",
    "                        ind=données[0].index(libellé)\n",
    "                        if données[6][ind]!=\"\" and données[6][ind]!=secteurs[sect]:\n",
    "                            if données[7][ind]!=\"\" and données[7][ind]!=secteurs[sect]:\n",
    "                                données[8][ind]=secteurs[sect]\n",
    "                            else:\n",
    "                                données[7][ind]=secteurs[sect]\n",
    "                        else:\n",
    "                            données[6][ind]=secteurs[sect]\n",
    "                        for i in range(1, len(périodesN)):\n",
    "                            if ipériode==i:\n",
    "                                données[i][ind]=variation"
   ]
  },
  {
   "cell_type": "markdown",
   "metadata": {},
   "source": [
    "On fait à peu près la même chose pour les bourses étrangères"
   ]
  },
  {
   "cell_type": "code",
   "execution_count": null,
   "metadata": {},
   "outputs": [],
   "source": [
    "étranger=[[], [], [], [], [], [], [], [], []]\n",
    "bourses=[\"USA, Nyse\", \"Canada, Toronto\", \"UK, LSE\"]\n",
    "Npays=[\"1\", \"2\", \"44\"]\n",
    "Nbourse=[\"101\", \"205\", \"440\"]"
   ]
  },
  {
   "cell_type": "markdown",
   "metadata": {},
   "source": [
    "étranger=\n",
    "* libellé\n",
    "* var 1 an\n",
    "* var 3 ans\n",
    "* var 5 ans\n",
    "* volume\n",
    "* capitalisation boursière\n",
    "* pays 1\n",
    "* pays 2\n",
    "* pays 3"
   ]
  },
  {
   "cell_type": "code",
   "execution_count": null,
   "metadata": {},
   "outputs": [],
   "source": [
    "for bourse in range(len(bourses)):\n",
    "    for ipériode in range(len(périodesN)):\n",
    "        url=\"https://www.boursorama.com/bourse/actions/palmares/international/?international_filter%5Bcountry%5D=\"+Npays[bourse]+\"&international_filter%5BindexTrading%5D=\"+Nbourse[bourse]+\"&international_filter%5Bvariation%5D=5004&international_filter%5Bperiod%5D=\"+périodesN[ipériode]+\"&international_filter%5Bfilter%5D=\"\n",
    "        r=requests.get(url)\n",
    "        soup=BeautifulSoup(r.text, \"html.parser\")\n",
    "        results=soup.find_all(\"span\", attrs={\"class\":\"c-pagination__content\"})\n",
    "        if len(results)==0:\n",
    "            NPages=2\n",
    "        else:\n",
    "            NPages=results[-1].text\n",
    "        print(url)\n",
    "        for page in range(1, int(NPages)+1):\n",
    "            url=\"https://www.boursorama.com/bourse/actions/palmares/international/page-\"+str(page)+\"?international_filter%5Bcountry%5D=\"+Npays[bourse]+\"&international_filter%5BindexTrading%5D=\"+Nbourse[bourse]+\"&international_filter%5Bvariation%5D=5004&international_filter%5Bperiod%5D=\"+périodesN[ipériode]+\"&international_filter%5Bfilter%5D=\"\n",
    "            r=requests.get(url)\n",
    "            soup=BeautifulSoup(r.text, \"html.parser\")\n",
    "            result1=soup.find(\"tbody\", attrs={'class':\"c-table__body\"})\n",
    "            results=result1.find_all(\"tr\", attrs={'class':\"c-table__row\"})\n",
    "            if len(results)>0:\n",
    "                for ligne in range(len(results)):\n",
    "                    libellé=results[ligne].find(\"a\").text\n",
    "                    variation=results[ligne].find(\"span\", attrs={ \"class\":\"c-instrument c-instrument--instant-variation\"}).text\n",
    "                    if not libellé in étranger[0]:\n",
    "                        étranger[0]=étranger[0]+[libellé]\n",
    "                        étranger[4]=étranger[4]+[results[ligne].find(\"span\", attrs={ \"class\":\"c-instrument c-instrument--totalvolume\"}).text]\n",
    "                        étranger[5]=étranger[5]+[(results[ligne].find_all(\"td\", attrs={ \"class\":\"c-table__cell c-table__cell--dotted \"})[-1].text).strip()]\n",
    "                        étranger[6]=étranger[6]+[bourses[bourse]]\n",
    "                        étranger[7]=étranger[7]+[\"\"]\n",
    "                        étranger[8]=étranger[8]+[\"\"]\n",
    "                        if ipériode==0:\n",
    "                            étranger[1]=étranger[1]+[\"\"]\n",
    "                            étranger[2]=étranger[2]+[\"\"]\n",
    "                            étranger[3]=étranger[3]+[\"\"]\n",
    "                        else:\n",
    "                            for i in range(1, len(périodesN)):\n",
    "                                if i==ipériode:\n",
    "                                    étranger[i]=étranger[i]+[variation]\n",
    "                                else:\n",
    "                                    étranger[i]=étranger[i]+[\"\"]\n",
    "                    else:\n",
    "                        ind=étranger[0].index(libellé)\n",
    "                        if étranger[6][ind]!=\"\" and étranger[6][ind]!=bourses[bourse]:\n",
    "                            if étranger[7][ind]!=\"\" and étranger[7][ind]!=bourses[bourse]:\n",
    "                                étranger[8][ind]=bourses[bourse]\n",
    "                            else:\n",
    "                                étranger[7][ind]=bourses[bourse]\n",
    "                        else:\n",
    "                            étranger[6][ind]=bourses[bourse]\n",
    "                        for i in range(1, len(périodesN)):\n",
    "                            if ipériode==i:\n",
    "                                étranger[i][ind]=variation"
   ]
  },
  {
   "cell_type": "markdown",
   "metadata": {},
   "source": [
    "Ensuite on prend le nom des sociétés cotées au SBF120 et CAC40, ou autres cotes étrangères"
   ]
  },
  {
   "cell_type": "code",
   "execution_count": null,
   "metadata": {},
   "outputs": [],
   "source": [
    "sbf=[]\n",
    "url=\"https://www.boursorama.com/bourse/actions/palmares/france/?france_filter%5Bmarket%5D=1rPPX4&france_filter%5Bsector%5D=&france_filter%5Bvariation%5D=128&france_filter%5Bperiod%5D=2&france_filter%5Bfilter%5D=\"\n",
    "r=requests.get(url)\n",
    "print(url)\n",
    "soup=BeautifulSoup(r.text, \"html.parser\")\n",
    "results=soup.find(\"div\", attrs={\"class\":\"js-table-fixed-column\"})\n",
    "results=soup.find_all(\"span\", attrs={\"class\":\"c-pagination__content\"})\n",
    "if len(results)==0:\n",
    "    NPages=1\n",
    "else:\n",
    "    NPages=results[-1].text\n",
    "for page in range(1, int(NPages)+1):\n",
    "    urlsbf=\"https://www.boursorama.com/bourse/actions/palmares/france/page-\"+str(page)+\"?france_filter%5Bmarket%5D=1rPPX4&france_filter%5Bsector%5D=&france_filter%5Bvariation%5D=128&france_filter%5Bperiod%5D=2&france_filter%5Bfilter%5D=\"\n",
    "    r=requests.get(urlsbf)\n",
    "    soup=BeautifulSoup(r.text, \"html.parser\")\n",
    "    results=soup.find_all(\"tr\", attrs={'class':\"c-table__row\"})\n",
    "    for j in range(1, len(results)-1):\n",
    "        sbf+=[results[j].find(\"a\").contents[0]]\n",
    "        \n",
    "cac=[]\n",
    "url=\"https://www.boursorama.com/bourse/actions/palmares/france/?france_filter%5Bmarket%5D=1rPCAC&france_filter%5Bsector%5D=&france_filter%5Bvariation%5D=128&france_filter%5Bperiod%5D=11&france_filter%5Bfilter%5D=\"\n",
    "r=requests.get(url)\n",
    "print(url)\n",
    "soup=BeautifulSoup(r.text, \"html.parser\")\n",
    "results=soup.find(\"div\", attrs={\"class\":\"js-table-fixed-column\"})\n",
    "results=soup.find_all(\"span\", attrs={\"class\":\"c-pagination__content\"})\n",
    "if len(results)==0:\n",
    "    NPages=1\n",
    "else:\n",
    "    NPages=results[-1].text\n",
    "for page in range(0, int(NPages)+1):\n",
    "    urlcac=\"https://www.boursorama.com/bourse/actions/palmares/france/page-\"+str(page)+\"?france_filter%5Bmarket%5D=1rPCAC&france_filter%5Bsector%5D=&france_filter%5Bvariation%5D=128&france_filter%5Bperiod%5D=11&france_filter%5Bfilter%5D=\"\n",
    "    r=requests.get(urlcac)\n",
    "    soup=BeautifulSoup(r.text, \"html.parser\")\n",
    "    results=soup.find_all(\"tr\", attrs={'class':\"c-table__row\"})\n",
    "    for j in range(1, len(results)-1):\n",
    "        cac+=[results[j].find(\"a\").contents[0]]\n",
    "cac=cac[25:]"
   ]
  },
  {
   "cell_type": "markdown",
   "metadata": {},
   "source": [
    "## Ecriture sur fichier Excel\n",
    "Dans la première pagesont disposées les informations concernant Paris et dans la deuxième le nom des sociétés par bourse étrangère"
   ]
  },
  {
   "cell_type": "code",
   "execution_count": null,
   "metadata": {},
   "outputs": [],
   "source": [
    "from xlwt import Workbook\n",
    " \n",
    "# création \n",
    "book = Workbook()\n",
    "path = r\"T:\\_Restricted_BALZAC\\Business Dev\\SUPERFICHIER\\BOURSE\\Boursorama.xls\""
   ]
  },
  {
   "cell_type": "code",
   "execution_count": null,
   "metadata": {},
   "outputs": [],
   "source": [
    "# création de la feuille 1\n",
    "feuil1 = book.add_sheet('bourse parisienne')\n",
    " \n",
    "# ajout des en-têtes\n",
    "feuil1.write(0,0, \"libellé\")\n",
    "feuil1.write(0,1,'variation sur 1 an')\n",
    "feuil1.write(0,2,'variation sur 3 ans')\n",
    "feuil1.write(0,3,'variation sur 5 ans')\n",
    "feuil1.write(0,4,'volume')\n",
    "feuil1.write(0,5,'capitalisation boursière -M€')\n",
    "feuil1.write(0,6,'est dans SBF120')\n",
    "feuil1.write(0,7,'est dans CAC40')\n",
    "feuil1.write(0,8,\"secteur d'activité 1\")\n",
    "feuil1.write(0,9,\"secteur d'activité 2\")\n",
    "feuil1.write(0,10,\"secteur d'activité 3\")\n",
    "\n",
    "# ajout des valeurs dans la ligne suivante\n",
    "for i in range(len(données[0])):\n",
    "    for j in range(5+1):\n",
    "        feuil1.write(i+1,j, données[j][i])\n",
    "    if sbf.count(données[0][i])>0:\n",
    "        feuil1.write(i+1,6,\"oui\")\n",
    "    else:\n",
    "        feuil1.write(i+1,6,\"non\")\n",
    "    if cac.count(données[0][i])>0:\n",
    "        feuil1.write(i+1,7,\"oui\")\n",
    "    else:\n",
    "        feuil1.write(i+1,7,\"non\")\n",
    "    feuil1.write(i+1, 8, données[6][i])\n",
    "    feuil1.write(i+1, 9, données[7][i])\n",
    "    feuil1.write(i+1, 10, données[8][i])"
   ]
  },
  {
   "cell_type": "code",
   "execution_count": null,
   "metadata": {},
   "outputs": [],
   "source": [
    "# création de la feuille 1\n",
    "feuil2 = book.add_sheet('bourse étrangère')\n",
    " \n",
    "# ajout des en-têtes\n",
    "feuil2.write(0,0, \"libellé\")\n",
    "feuil2.write(0,1,'variation sur 1 an')\n",
    "feuil2.write(0,2,'variation sur 3 ans')\n",
    "feuil2.write(0,3,'variation sur 5 ans')\n",
    "feuil2.write(0,4,'volume')\n",
    "feuil2.write(0,5,'capitalisation boursière -M€')\n",
    "feuil2.write(0,6,\"pays 1\")\n",
    "feuil2.write(0,7,\"pays 2\")\n",
    "feuil2.write(0,8,\"pays 3\")\n",
    "\n",
    "# ajout des valeurs dans la ligne suivante\n",
    "for i in range(len(étranger[0])):\n",
    "    for j in range(5+1):\n",
    "        feuil2.write(i+1,j, étranger[j][i])\n",
    "    feuil2.write(i+1, 6, étranger[6][i])\n",
    "    feuil2.write(i+1, 7, étranger[7][i])\n",
    "    feuil2.write(i+1, 8, étranger[8][i])"
   ]
  },
  {
   "cell_type": "code",
   "execution_count": null,
   "metadata": {},
   "outputs": [],
   "source": [
    "book.save(path)"
   ]
  }
 ],
 "metadata": {
  "kernelspec": {
   "display_name": "Python 3",
   "language": "python",
   "name": "python3"
  },
  "language_info": {
   "codemirror_mode": {
    "name": "ipython",
    "version": 3
   },
   "file_extension": ".py",
   "mimetype": "text/x-python",
   "name": "python",
   "nbconvert_exporter": "python",
   "pygments_lexer": "ipython3",
   "version": "3.6.5"
  }
 },
 "nbformat": 4,
 "nbformat_minor": 2
}
